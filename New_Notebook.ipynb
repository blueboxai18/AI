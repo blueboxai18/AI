{
  "nbformat": 4,
  "nbformat_minor": 0,
  "metadata": {
    "colab": {
      "name": "New Notebook.ipynb",
      "version": "0.3.2",
      "provenance": [],
      "include_colab_link": true
    },
    "kernelspec": {
      "name": "python3",
      "display_name": "Python 3"
    }
  },
  "cells": [
    {
      "cell_type": "markdown",
      "metadata": {
        "id": "view-in-github",
        "colab_type": "text"
      },
      "source": [
        "<a href=\"https://colab.research.google.com/github/blueboxai18/AI/blob/master/New_Notebook.ipynb\" target=\"_parent\"><img src=\"https://colab.research.google.com/assets/colab-badge.svg\" alt=\"Open In Colab\"/></a>"
      ]
    },
    {
      "metadata": {
        "id": "enJcVtP_OXLu",
        "colab_type": "code",
        "colab": {
          "base_uri": "https://localhost:8080/",
          "height": 102
        },
        "outputId": "4b61f8bb-0908-4ae5-b483-737690cd8112"
      },
      "cell_type": "code",
      "source": [
        "# First lines of code\n",
        "\n",
        "x = 13\n",
        "\n",
        "print (x)\n",
        "\n",
        "y = 28\n",
        "print(\"Printing datatype of y:\")\n",
        "\n",
        "print (type(y))\n",
        "\n",
        "print(\"Printing sum of two variables\")\n",
        "\n",
        "print ('Value of x+y: ', x+y)"
      ],
      "execution_count": 7,
      "outputs": [
        {
          "output_type": "stream",
          "text": [
            "13\n",
            "Printing datatype of y:\n",
            "<class 'int'>\n",
            "Printing sum of two variables\n",
            "Value of x+y:  41\n"
          ],
          "name": "stdout"
        }
      ]
    },
    {
      "metadata": {
        "id": "c9ii06YCRqkn",
        "colab_type": "code",
        "colab": {
          "base_uri": "https://localhost:8080/",
          "height": 51
        },
        "outputId": "e4715ef2-3fb7-40ee-8d6f-8e83bbf8fe40"
      },
      "cell_type": "code",
      "source": [
        "# Python has great support for strings\n",
        "\n",
        "st = \"welcome\"\n",
        "print(st.upper()) # Convert entire string to uppercase\n",
        "\n",
        "print('German equivalent of welcome is:', st.replace('welcome', 'willkommen')) # Replaces select chars (or whole string) with replacement. In this example it prints willkommen"
      ],
      "execution_count": 22,
      "outputs": [
        {
          "output_type": "stream",
          "text": [
            "WELCOME\n",
            "German equivalent of welcome is: willkommen\n"
          ],
          "name": "stdout"
        }
      ]
    },
    {
      "metadata": {
        "id": "btTXsNWqV8Vh",
        "colab_type": "text"
      },
      "cell_type": "markdown",
      "source": [
        "\n",
        "\n",
        "\n",
        "<H1> Importing files (like data, other python files)</H1>\n",
        "\n",
        "<H3>**Mouting Google Drive in your VM **</H3>\n",
        "\n",
        "\n"
      ]
    },
    {
      "metadata": {
        "id": "S7fzttQYV7YW",
        "colab_type": "code",
        "colab": {}
      },
      "cell_type": "code",
      "source": [
        ""
      ],
      "execution_count": 0,
      "outputs": []
    },
    {
      "metadata": {
        "id": "hsNAHfMhZB3d",
        "colab_type": "code",
        "colab": {
          "base_uri": "https://localhost:8080/",
          "height": 122
        },
        "outputId": "39e6916c-bcb6-4c89-bf5e-e8ec4ed4242c"
      },
      "cell_type": "code",
      "source": [
        "from google.colab import drive\n",
        "drive.mount('/gdrive')"
      ],
      "execution_count": 5,
      "outputs": [
        {
          "output_type": "stream",
          "text": [
            "Go to this URL in a browser: https://accounts.google.com/o/oauth2/auth?client_id=947318989803-6bn6qk8qdgf4n4g3pfee6491hc0brc4i.apps.googleusercontent.com&redirect_uri=urn%3Aietf%3Awg%3Aoauth%3A2.0%3Aoob&scope=email%20https%3A%2F%2Fwww.googleapis.com%2Fauth%2Fdocs.test%20https%3A%2F%2Fwww.googleapis.com%2Fauth%2Fdrive%20https%3A%2F%2Fwww.googleapis.com%2Fauth%2Fdrive.photos.readonly%20https%3A%2F%2Fwww.googleapis.com%2Fauth%2Fpeopleapi.readonly&response_type=code\n",
            "\n",
            "Enter your authorization code:\n",
            "··········\n",
            "Mounted at /gdrive\n"
          ],
          "name": "stdout"
        }
      ]
    },
    {
      "metadata": {
        "id": "HampL5QSZ79n",
        "colab_type": "code",
        "colab": {}
      },
      "cell_type": "code",
      "source": [
        "!pip install -q keras\n",
        "\n",
        "\n"
      ],
      "execution_count": 0,
      "outputs": []
    },
    {
      "metadata": {
        "id": "bVNmxPgQWz70",
        "colab_type": "code",
        "colab": {
          "base_uri": "https://localhost:8080/",
          "height": 578
        },
        "outputId": "c8cd63fd-6c9a-4717-ad28-f9bdb4a3a21f"
      },
      "cell_type": "code",
      "source": [
        "!python3 \"/gdrive/My Drive/app/mnist_cnn.py\"\n"
      ],
      "execution_count": 10,
      "outputs": [
        {
          "output_type": "stream",
          "text": [
            "Using TensorFlow backend.\n",
            "Downloading data from https://s3.amazonaws.com/img-datasets/mnist.npz\n",
            "11493376/11490434 [==============================] - 1s 0us/step\n",
            "x_train shape: (60000, 28, 28, 1)\n",
            "60000 train samples\n",
            "10000 test samples\n",
            "Train on 60000 samples, validate on 10000 samples\n",
            "Epoch 1/12\n",
            "60000/60000 [==============================] - 170s 3ms/step - loss: 0.2622 - acc: 0.9200 - val_loss: 0.0593 - val_acc: 0.9809\n",
            "Epoch 2/12\n",
            "60000/60000 [==============================] - 168s 3ms/step - loss: 0.0907 - acc: 0.9731 - val_loss: 0.0427 - val_acc: 0.9849\n",
            "Epoch 3/12\n",
            "60000/60000 [==============================] - 168s 3ms/step - loss: 0.0686 - acc: 0.9794 - val_loss: 0.0361 - val_acc: 0.9875\n",
            "Epoch 4/12\n",
            "60000/60000 [==============================] - 167s 3ms/step - loss: 0.0558 - acc: 0.9837 - val_loss: 0.0312 - val_acc: 0.9900\n",
            "Epoch 5/12\n",
            "60000/60000 [==============================] - 168s 3ms/step - loss: 0.0477 - acc: 0.9858 - val_loss: 0.0292 - val_acc: 0.9902\n",
            "Epoch 6/12\n",
            "60000/60000 [==============================] - 169s 3ms/step - loss: 0.0430 - acc: 0.9869 - val_loss: 0.0274 - val_acc: 0.9917\n",
            "Epoch 7/12\n",
            "60000/60000 [==============================] - 167s 3ms/step - loss: 0.0380 - acc: 0.9882 - val_loss: 0.0280 - val_acc: 0.9904\n",
            "Epoch 8/12\n",
            "60000/60000 [==============================] - 169s 3ms/step - loss: 0.0366 - acc: 0.9888 - val_loss: 0.0292 - val_acc: 0.9910\n",
            "Epoch 9/12\n",
            "60000/60000 [==============================] - 167s 3ms/step - loss: 0.0309 - acc: 0.9904 - val_loss: 0.0279 - val_acc: 0.9907\n",
            "Epoch 10/12\n",
            "60000/60000 [==============================] - 167s 3ms/step - loss: 0.0296 - acc: 0.9907 - val_loss: 0.0305 - val_acc: 0.9900\n",
            "Epoch 11/12\n",
            "60000/60000 [==============================] - 168s 3ms/step - loss: 0.0295 - acc: 0.9911 - val_loss: 0.0262 - val_acc: 0.9910\n",
            "Epoch 12/12\n",
            "60000/60000 [==============================] - 168s 3ms/step - loss: 0.0267 - acc: 0.9919 - val_loss: 0.0266 - val_acc: 0.9917\n",
            "Test loss: 0.02659838527041875\n",
            "Test accuracy: 0.9917\n"
          ],
          "name": "stdout"
        }
      ]
    }
  ]
}